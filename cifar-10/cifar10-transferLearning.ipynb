{
 "cells": [
  {
   "cell_type": "markdown",
   "metadata": {},
   "source": [
    "# Keras and transfer learning\n",
    "## This notebook shows how to reuse a pretrained CNN\n",
    "### More specifically, VGG16 is used, the last fully connected layers are used and then a new fully connected layer is added\n",
    "\n",
    "### Note that this results on overfitting, still I think the code can help"
   ]
  },
  {
   "cell_type": "code",
   "execution_count": 1,
   "metadata": {},
   "outputs": [
    {
     "name": "stderr",
     "output_type": "stream",
     "text": [
      "Using TensorFlow backend.\n"
     ]
    }
   ],
   "source": [
    "from importlib import reload\n",
    "from keras.models import Model\n",
    "from keras.layers import Dense,Flatten\n",
    "from keras.applications import vgg16\n",
    "from keras import backend as K\n",
    "import h5py\n",
    "from keras.layers import Dense, GlobalAveragePooling2D"
   ]
  },
  {
   "cell_type": "code",
   "execution_count": 2,
   "metadata": {},
   "outputs": [
    {
     "name": "stdout",
     "output_type": "stream",
     "text": [
      "Downloading data from https://github.com/fchollet/deep-learning-models/releases/download/v0.1/vgg16_weights_tf_dim_ordering_tf_kernels_notop.h5\n",
      "58122240/58889256 [============================>.] - ETA: 0s"
     ]
    }
   ],
   "source": [
    "model = vgg16.VGG16(weights='imagenet', include_top=False)\n"
   ]
  },
  {
   "cell_type": "code",
   "execution_count": 3,
   "metadata": {},
   "outputs": [
    {
     "data": {
      "text/plain": [
       "<tf.Tensor 'input_1:0' shape=(?, ?, ?, 3) dtype=float32>"
      ]
     },
     "execution_count": 3,
     "metadata": {},
     "output_type": "execute_result"
    }
   ],
   "source": [
    "model.input"
   ]
  },
  {
   "cell_type": "code",
   "execution_count": 4,
   "metadata": {},
   "outputs": [
    {
     "name": "stdout",
     "output_type": "stream",
     "text": [
      "_________________________________________________________________\n",
      "Layer (type)                 Output Shape              Param #   \n",
      "=================================================================\n",
      "input_1 (InputLayer)         (None, None, None, 3)     0         \n",
      "_________________________________________________________________\n",
      "block1_conv1 (Conv2D)        (None, None, None, 64)    1792      \n",
      "_________________________________________________________________\n",
      "block1_conv2 (Conv2D)        (None, None, None, 64)    36928     \n",
      "_________________________________________________________________\n",
      "block1_pool (MaxPooling2D)   (None, None, None, 64)    0         \n",
      "_________________________________________________________________\n",
      "block2_conv1 (Conv2D)        (None, None, None, 128)   73856     \n",
      "_________________________________________________________________\n",
      "block2_conv2 (Conv2D)        (None, None, None, 128)   147584    \n",
      "_________________________________________________________________\n",
      "block2_pool (MaxPooling2D)   (None, None, None, 128)   0         \n",
      "_________________________________________________________________\n",
      "block3_conv1 (Conv2D)        (None, None, None, 256)   295168    \n",
      "_________________________________________________________________\n",
      "block3_conv2 (Conv2D)        (None, None, None, 256)   590080    \n",
      "_________________________________________________________________\n",
      "block3_conv3 (Conv2D)        (None, None, None, 256)   590080    \n",
      "_________________________________________________________________\n",
      "block3_pool (MaxPooling2D)   (None, None, None, 256)   0         \n",
      "_________________________________________________________________\n",
      "block4_conv1 (Conv2D)        (None, None, None, 512)   1180160   \n",
      "_________________________________________________________________\n",
      "block4_conv2 (Conv2D)        (None, None, None, 512)   2359808   \n",
      "_________________________________________________________________\n",
      "block4_conv3 (Conv2D)        (None, None, None, 512)   2359808   \n",
      "_________________________________________________________________\n",
      "block4_pool (MaxPooling2D)   (None, None, None, 512)   0         \n",
      "_________________________________________________________________\n",
      "block5_conv1 (Conv2D)        (None, None, None, 512)   2359808   \n",
      "_________________________________________________________________\n",
      "block5_conv2 (Conv2D)        (None, None, None, 512)   2359808   \n",
      "_________________________________________________________________\n",
      "block5_conv3 (Conv2D)        (None, None, None, 512)   2359808   \n",
      "_________________________________________________________________\n",
      "block5_pool (MaxPooling2D)   (None, None, None, 512)   0         \n",
      "=================================================================\n",
      "Total params: 14,714,688\n",
      "Trainable params: 14,714,688\n",
      "Non-trainable params: 0\n",
      "_________________________________________________________________\n"
     ]
    }
   ],
   "source": [
    "model.summary()"
   ]
  },
  {
   "cell_type": "code",
   "execution_count": 5,
   "metadata": {},
   "outputs": [
    {
     "name": "stderr",
     "output_type": "stream",
     "text": [
      "/usr/local/lib/python3.6/site-packages/ipykernel_launcher.py:11: UserWarning: Update your `Model` call to the Keras 2 API: `Model(inputs=Tensor(\"in..., outputs=Tensor(\"de...)`\n",
      "  # This is added back by InteractiveShellApp.init_path()\n"
     ]
    }
   ],
   "source": [
    "x = model.output\n",
    "x = GlobalAveragePooling2D()(x)\n",
    "\n",
    "# add a fully-connected layer\n",
    "x = Dense(512, activation='relu')(x)\n",
    "\n",
    "# and a fully connected output/classification layer\n",
    "predictions = Dense(10, activation='softmax')(x)\n",
    "\n",
    "# create the full network so we can train on it\n",
    "transfer_model = Model(input=model.input, output=predictions)"
   ]
  },
  {
   "cell_type": "code",
   "execution_count": 6,
   "metadata": {
    "collapsed": true
   },
   "outputs": [],
   "source": [
    "# We do NOT want to retrain the convolutional layers from vgg16\n",
    "for layer in model.layers:\n",
    "    layer.trainable = False"
   ]
  },
  {
   "cell_type": "code",
   "execution_count": 7,
   "metadata": {},
   "outputs": [
    {
     "name": "stdout",
     "output_type": "stream",
     "text": [
      "_________________________________________________________________\n",
      "Layer (type)                 Output Shape              Param #   \n",
      "=================================================================\n",
      "input_1 (InputLayer)         (None, None, None, 3)     0         \n",
      "_________________________________________________________________\n",
      "block1_conv1 (Conv2D)        (None, None, None, 64)    1792      \n",
      "_________________________________________________________________\n",
      "block1_conv2 (Conv2D)        (None, None, None, 64)    36928     \n",
      "_________________________________________________________________\n",
      "block1_pool (MaxPooling2D)   (None, None, None, 64)    0         \n",
      "_________________________________________________________________\n",
      "block2_conv1 (Conv2D)        (None, None, None, 128)   73856     \n",
      "_________________________________________________________________\n",
      "block2_conv2 (Conv2D)        (None, None, None, 128)   147584    \n",
      "_________________________________________________________________\n",
      "block2_pool (MaxPooling2D)   (None, None, None, 128)   0         \n",
      "_________________________________________________________________\n",
      "block3_conv1 (Conv2D)        (None, None, None, 256)   295168    \n",
      "_________________________________________________________________\n",
      "block3_conv2 (Conv2D)        (None, None, None, 256)   590080    \n",
      "_________________________________________________________________\n",
      "block3_conv3 (Conv2D)        (None, None, None, 256)   590080    \n",
      "_________________________________________________________________\n",
      "block3_pool (MaxPooling2D)   (None, None, None, 256)   0         \n",
      "_________________________________________________________________\n",
      "block4_conv1 (Conv2D)        (None, None, None, 512)   1180160   \n",
      "_________________________________________________________________\n",
      "block4_conv2 (Conv2D)        (None, None, None, 512)   2359808   \n",
      "_________________________________________________________________\n",
      "block4_conv3 (Conv2D)        (None, None, None, 512)   2359808   \n",
      "_________________________________________________________________\n",
      "block4_pool (MaxPooling2D)   (None, None, None, 512)   0         \n",
      "_________________________________________________________________\n",
      "block5_conv1 (Conv2D)        (None, None, None, 512)   2359808   \n",
      "_________________________________________________________________\n",
      "block5_conv2 (Conv2D)        (None, None, None, 512)   2359808   \n",
      "_________________________________________________________________\n",
      "block5_conv3 (Conv2D)        (None, None, None, 512)   2359808   \n",
      "_________________________________________________________________\n",
      "block5_pool (MaxPooling2D)   (None, None, None, 512)   0         \n",
      "_________________________________________________________________\n",
      "global_average_pooling2d_1 ( (None, 512)               0         \n",
      "_________________________________________________________________\n",
      "dense_1 (Dense)              (None, 512)               262656    \n",
      "_________________________________________________________________\n",
      "dense_2 (Dense)              (None, 10)                5130      \n",
      "=================================================================\n",
      "Total params: 14,982,474\n",
      "Trainable params: 267,786\n",
      "Non-trainable params: 14,714,688\n",
      "_________________________________________________________________\n"
     ]
    }
   ],
   "source": [
    "transfer_model.summary()"
   ]
  },
  {
   "cell_type": "code",
   "execution_count": 8,
   "metadata": {},
   "outputs": [
    {
     "name": "stdout",
     "output_type": "stream",
     "text": [
      "Downloading data from http://www.cs.toronto.edu/~kriz/cifar-10-python.tar.gz\n",
      "170229760/170498071 [============================>.] - ETA: 0s"
     ]
    }
   ],
   "source": [
    "from keras.datasets import cifar10\n",
    "import keras\n",
    "(X_train_raw, y_train_raw), (X_test_raw, y_test_raw) = cifar10.load_data()"
   ]
  },
  {
   "cell_type": "code",
   "execution_count": 9,
   "metadata": {
    "collapsed": true
   },
   "outputs": [],
   "source": [
    "# Normalize data\n",
    "X_train = X_train_raw / 255 - 0.5\n",
    "X_test = X_test_raw / 255 - 0.5"
   ]
  },
  {
   "cell_type": "code",
   "execution_count": 13,
   "metadata": {
    "collapsed": true
   },
   "outputs": [],
   "source": [
    "# Convert labels to one-hot-encoding\n",
    "y_test = keras.utils.to_categorical(y_test_raw, 10)\n",
    "y_train = keras.utils.to_categorical(y_train_raw, 10)"
   ]
  },
  {
   "cell_type": "code",
   "execution_count": 14,
   "metadata": {
    "collapsed": true
   },
   "outputs": [],
   "source": [
    "# Lets compile our model now\n",
    "transfer_model.compile(loss='categorical_crossentropy',\n",
    "              optimizer='rmsprop',\n",
    "              metrics=['accuracy'])"
   ]
  },
  {
   "cell_type": "code",
   "execution_count": 15,
   "metadata": {},
   "outputs": [
    {
     "name": "stdout",
     "output_type": "stream",
     "text": [
      "Train on 50000 samples, validate on 10000 samples\n",
      "Epoch 1/10\n",
      "50000/50000 [==============================] - 24s - loss: 1.3200 - acc: 0.5384 - val_loss: 1.2776 - val_acc: 0.5537\n",
      "Epoch 2/10\n",
      "50000/50000 [==============================] - 24s - loss: 1.1315 - acc: 0.6037 - val_loss: 1.3172 - val_acc: 0.5352\n",
      "Epoch 3/10\n",
      "50000/50000 [==============================] - 24s - loss: 1.0575 - acc: 0.6302 - val_loss: 1.1696 - val_acc: 0.5935\n",
      "Epoch 4/10\n",
      "50000/50000 [==============================] - 26s - loss: 1.0016 - acc: 0.6489 - val_loss: 1.1309 - val_acc: 0.6080\n",
      "Epoch 5/10\n",
      "50000/50000 [==============================] - 34s - loss: 0.9536 - acc: 0.6678 - val_loss: 1.1177 - val_acc: 0.6170\n",
      "Epoch 6/10\n",
      "50000/50000 [==============================] - 34s - loss: 0.9098 - acc: 0.6832 - val_loss: 1.1238 - val_acc: 0.6097\n",
      "Epoch 7/10\n",
      "50000/50000 [==============================] - 34s - loss: 0.8707 - acc: 0.6956 - val_loss: 1.0932 - val_acc: 0.6305\n",
      "Epoch 8/10\n",
      "50000/50000 [==============================] - 31s - loss: 0.8312 - acc: 0.7091 - val_loss: 1.1155 - val_acc: 0.6278\n",
      "Epoch 9/10\n",
      "50000/50000 [==============================] - 24s - loss: 0.7952 - acc: 0.7218 - val_loss: 1.1354 - val_acc: 0.6269\n",
      "Epoch 10/10\n",
      "50000/50000 [==============================] - 24s - loss: 0.7600 - acc: 0.7342 - val_loss: 1.1541 - val_acc: 0.6229\n"
     ]
    }
   ],
   "source": [
    "# And fit it...\n",
    "transfer_history = transfer_model.fit(X_train, y_train,\n",
    "                                      batch_size=64,\n",
    "                                      epochs=10,\n",
    "                                      verbose=1,\n",
    "                                      validation_data=(X_test, y_test))\n"
   ]
  },
  {
   "cell_type": "code",
   "execution_count": 16,
   "metadata": {},
   "outputs": [
    {
     "data": {
      "image/png": "[encoded data removed]",
      "text/plain": [
       "<matplotlib.figure.Figure at 0x7f114ca78358>"
      ]
     },
     "metadata": {},
     "output_type": "display_data"
    }
   ],
   "source": [
    "import pandas as pd\n",
    "import matplotlib.pyplot as plt\n",
    "import numpy as np\n",
    "h = pd.DataFrame([transfer_history.history['acc'], transfer_history.history['val_acc']])\n",
    "h = h.T\n",
    "h.columns=['acc', 'val_acc']\n",
    "h.plot(figsize=(20, 5))\n",
    "plt.show()"
   ]
  },
  {
   "cell_type": "code",
   "execution_count": 17,
   "metadata": {},
   "outputs": [
    {
     "name": "stdout",
     "output_type": "stream",
     "text": [
      "Train on 50000 samples, validate on 10000 samples\n",
      "Epoch 1/10\n",
      "50000/50000 [==============================] - 24s - loss: 0.7278 - acc: 0.7456 - val_loss: 1.1748 - val_acc: 0.6208\n",
      "Epoch 2/10\n",
      "50000/50000 [==============================] - 24s - loss: 0.6972 - acc: 0.7581 - val_loss: 1.1786 - val_acc: 0.6243\n",
      "Epoch 3/10\n",
      "50000/50000 [==============================] - 24s - loss: 0.6634 - acc: 0.7689 - val_loss: 1.1981 - val_acc: 0.6320\n",
      "Epoch 4/10\n",
      "50000/50000 [==============================] - 24s - loss: 0.6321 - acc: 0.7785 - val_loss: 1.2867 - val_acc: 0.6112\n",
      "Epoch 5/10\n",
      "50000/50000 [==============================] - 24s - loss: 0.6014 - acc: 0.7915 - val_loss: 1.2399 - val_acc: 0.6257\n",
      "Epoch 6/10\n",
      "50000/50000 [==============================] - 24s - loss: 0.5727 - acc: 0.8004 - val_loss: 1.2445 - val_acc: 0.6337\n",
      "Epoch 7/10\n",
      "50000/50000 [==============================] - 24s - loss: 0.5457 - acc: 0.8124 - val_loss: 1.4147 - val_acc: 0.6071\n",
      "Epoch 8/10\n",
      "50000/50000 [==============================] - 24s - loss: 0.5194 - acc: 0.8208 - val_loss: 1.4701 - val_acc: 0.6007\n",
      "Epoch 9/10\n",
      "50000/50000 [==============================] - 24s - loss: 0.4937 - acc: 0.8291 - val_loss: 1.3465 - val_acc: 0.6232\n",
      "Epoch 10/10\n",
      "50000/50000 [==============================] - 24s - loss: 0.4677 - acc: 0.8387 - val_loss: 1.4504 - val_acc: 0.6144\n"
     ]
    },
    {
     "data": {
      "image/png": "[encoded data removed]",
      "text/plain": [
       "<matplotlib.figure.Figure at 0x7f114806b160>"
      ]
     },
     "metadata": {},
     "output_type": "display_data"
    }
   ],
   "source": [
    "transfer_history = transfer_model.fit(X_train, y_train,\n",
    "                                      batch_size=64,\n",
    "                                      epochs=10,\n",
    "                                      verbose=1,\n",
    "                                      validation_data=(X_test, y_test))\n",
    "\n",
    "\n",
    "h = pd.DataFrame([transfer_history.history['acc'], transfer_history.history['val_acc']])\n",
    "h = h.T\n",
    "h.columns=['acc', 'val_acc']\n",
    "h.plot(figsize=(20, 5))\n",
    "plt.show()"
   ]
  },
  {
   "cell_type": "code",
   "execution_count": 18,
   "metadata": {},
   "outputs": [
    {
     "name": "stdout",
     "output_type": "stream",
     "text": [
      "Train on 50000 samples, validate on 10000 samples\n",
      "Epoch 1/10\n",
      "50000/50000 [==============================] - 24s - loss: 0.4441 - acc: 0.8468 - val_loss: 1.4733 - val_acc: 0.6119\n",
      "Epoch 2/10\n",
      "50000/50000 [==============================] - 24s - loss: 0.4221 - acc: 0.8549 - val_loss: 1.4962 - val_acc: 0.6210\n",
      "Epoch 3/10\n",
      "50000/50000 [==============================] - 24s - loss: 0.4010 - acc: 0.8617 - val_loss: 1.5480 - val_acc: 0.6076\n",
      "Epoch 4/10\n",
      "50000/50000 [==============================] - 24s - loss: 0.3803 - acc: 0.8689 - val_loss: 1.5167 - val_acc: 0.6222\n",
      "Epoch 5/10\n",
      "50000/50000 [==============================] - 24s - loss: 0.3614 - acc: 0.8779 - val_loss: 1.5845 - val_acc: 0.6141\n",
      "Epoch 6/10\n",
      "50000/50000 [==============================] - 24s - loss: 0.3408 - acc: 0.8838 - val_loss: 1.6239 - val_acc: 0.6154\n",
      "Epoch 7/10\n",
      "50000/50000 [==============================] - 24s - loss: 0.3240 - acc: 0.8903 - val_loss: 1.7066 - val_acc: 0.6050\n",
      "Epoch 8/10\n",
      "50000/50000 [==============================] - 24s - loss: 0.3060 - acc: 0.8961 - val_loss: 1.7040 - val_acc: 0.6197\n",
      "Epoch 9/10\n",
      "50000/50000 [==============================] - 24s - loss: 0.2899 - acc: 0.9009 - val_loss: 1.6979 - val_acc: 0.6191\n",
      "Epoch 10/10\n",
      "50000/50000 [==============================] - 24s - loss: 0.2743 - acc: 0.9071 - val_loss: 1.7781 - val_acc: 0.6085\n"
     ]
    },
    {
     "data": {
      "image/png": "[encoded data removed]",
      "text/plain": [
       "<matplotlib.figure.Figure at 0x7f1138112a90>"
      ]
     },
     "metadata": {},
     "output_type": "display_data"
    }
   ],
   "source": [
    "transfer_history = transfer_model.fit(X_train, y_train,\n",
    "                                      batch_size=64,\n",
    "                                      epochs=10,\n",
    "                                      verbose=1,\n",
    "                                      validation_data=(X_test, y_test))\n",
    "\n",
    "\n",
    "h = pd.DataFrame([transfer_history.history['acc'], transfer_history.history['val_acc']])\n",
    "h = h.T\n",
    "h.columns=['acc', 'val_acc']\n",
    "h.plot(figsize=(20, 5))\n",
    "plt.show()"
   ]
  },
  {
   "cell_type": "code",
   "execution_count": null,
   "metadata": {},
   "outputs": [
    {
     "name": "stdout",
     "output_type": "stream",
     "text": [
      "Train on 50000 samples, validate on 10000 samples\n",
      "Epoch 1/10\n",
      "50000/50000 [==============================] - 24s - loss: 0.2595 - acc: 0.9122 - val_loss: 1.7901 - val_acc: 0.6169\n",
      "Epoch 2/10\n",
      "50000/50000 [==============================] - 24s - loss: 0.2443 - acc: 0.9193 - val_loss: 1.8668 - val_acc: 0.6067\n",
      "Epoch 3/10\n",
      "50000/50000 [==============================] - 24s - loss: 0.2326 - acc: 0.9223 - val_loss: 1.9011 - val_acc: 0.6079\n",
      "Epoch 4/10\n",
      "50000/50000 [==============================] - 24s - loss: 0.2199 - acc: 0.9277 - val_loss: 1.9506 - val_acc: 0.6046\n",
      "Epoch 5/10\n",
      "50000/50000 [==============================] - 24s - loss: 0.2067 - acc: 0.9320 - val_loss: 1.9718 - val_acc: 0.6064\n",
      "Epoch 6/10\n",
      "50000/50000 [==============================] - 24s - loss: 0.1978 - acc: 0.9341 - val_loss: 2.0391 - val_acc: 0.6052\n",
      "Epoch 7/10\n",
      "50000/50000 [==============================] - 24s - loss: 0.1872 - acc: 0.9385 - val_loss: 2.0113 - val_acc: 0.6088\n",
      "Epoch 8/10\n",
      "50000/50000 [==============================] - 24s - loss: 0.1755 - acc: 0.9408 - val_loss: 2.1369 - val_acc: 0.6006\n",
      "Epoch 9/10\n",
      "50000/50000 [==============================] - 24s - loss: 0.1682 - acc: 0.9435 - val_loss: 2.1395 - val_acc: 0.6031\n",
      "Epoch 10/10\n",
      "50000/50000 [==============================] - 24s - loss: 0.1570 - acc: 0.9486 - val_loss: 2.2138 - val_acc: 0.5991\n"
     ]
    },
    {
     "data": {
      "image/png": "[encoded data removed]",
      "text/plain": [
       "<matplotlib.figure.Figure at 0x7f113800b940>"
      ]
     },
     "metadata": {},
     "output_type": "display_data"
    }
   ],
   "source": [
    "transfer_history = transfer_model.fit(X_train, y_train,\n",
    "                                      batch_size=64,\n",
    "                                      epochs=10,\n",
    "                                      verbose=1,\n",
    "                                      validation_data=(X_test, y_test))\n",
    "\n",
    "\n",
    "h = pd.DataFrame([transfer_history.history['acc'], transfer_history.history['val_acc']])\n",
    "h = h.T\n",
    "h.columns=['acc', 'val_acc']\n",
    "h.plot(figsize=(20, 5))\n",
    "plt.show()"
   ]
  }
 ],
 "metadata": {
  "kernelspec": {
   "display_name": "Python 3",
   "language": "python",
   "name": "python3"
  },
  "language_info": {
   "codemirror_mode": {
    "name": "ipython",
    "version": 3
   },
   "file_extension": ".py",
   "mimetype": "text/x-python",
   "name": "python",
   "nbconvert_exporter": "python",
   "pygments_lexer": "ipython3",
   "version": "3.5.4"
  }
 },
 "nbformat": 4,
 "nbformat_minor": 2
}
