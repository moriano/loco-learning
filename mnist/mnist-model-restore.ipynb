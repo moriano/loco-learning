{
 "cells": [
  {
   "cell_type": "code",
   "execution_count": null,
   "metadata": {
    "scrolled": true
   },
   "outputs": [],
   "source": [
    "import tensorflow as tf\n",
    "import numpy as np\n",
    "from tensorflow.examples.tutorials.mnist import input_data\n",
    "mnist = input_data.read_data_sets(\"MNIST_data/\", one_hot=True)\n",
    "X_test, y_test = mnist.test.next_batch(1000) \n",
    "\n"
   ]
  },
  {
   "cell_type": "code",
   "execution_count": null,
   "metadata": {
    "scrolled": false
   },
   "outputs": [],
   "source": [
    "for epoch in range(10):\n",
    "    with tf.Session() as session:\n",
    "        session.run(tf.global_variables_initializer())\n",
    "        loader = tf.train.import_meta_graph('/tmp/mnist_epoch-%d.meta' % epoch)\n",
    "        loader.restore(session, '/tmp/mnist_epoch-%d' % epoch)\n",
    "\n",
    "        graph = tf.get_default_graph()\n",
    "        \n",
    "        \"\"\"\n",
    "        Ok, so here's the thing, for some reason, even though I named the tensors as \n",
    "            accuracy\n",
    "            X\n",
    "            y\n",
    "            \n",
    "        Looks like internally tensorflow stores them in the form \"name:NUMBER\" so you cannot do \n",
    "        \n",
    "        graph.get_tensor_by_name(\"accuracy\") \n",
    "        \n",
    "        Because that will return an operation instead of a tensor. \n",
    "        \n",
    "        Not a big deal, seems that simply doing\n",
    "        \n",
    "        graph.get_tensor_by_name(\"accuracy:0\")\n",
    "        \n",
    "        Fixes the problem\n",
    "        \"\"\"\n",
    "        accuracy = graph.get_tensor_by_name(\"accuracy:0\")\n",
    "        X = graph.get_tensor_by_name(\"X:0\")\n",
    "        y = graph.get_tensor_by_name(\"y:0\")\n",
    "\n",
    "        session.run(accuracy, feed_dict={X: X_test, y: y_test})\n",
    "        print(\"Accuracy (test) is %.3f\" %  accuracy.eval(feed_dict={X: X_test, y: y_test}))\n",
    "    #print(\"Cost (test) is %.3f\" %  cost.eval(feed_dict={X: X_test, y: y_test}))"
   ]
  },
  {
   "cell_type": "code",
   "execution_count": null,
   "metadata": {
    "scrolled": true
   },
   "outputs": [],
   "source": [
    "logits = graph.get_tensor_by_name(\"layer_3:0\")\n"
   ]
  },
  {
   "cell_type": "code",
   "execution_count": null,
   "metadata": {
    "scrolled": true
   },
   "outputs": [],
   "source": [
    "\n",
    "#graph.get_tensor_by_name(\"accuracy:0\")"
   ]
  },
  {
   "cell_type": "code",
   "execution_count": null,
   "metadata": {
    "scrolled": true
   },
   "outputs": [],
   "source": []
  },
  {
   "cell_type": "code",
   "execution_count": null,
   "metadata": {
    "collapsed": true,
    "scrolled": true
   },
   "outputs": [],
   "source": []
  }
 ],
 "metadata": {
  "kernelspec": {
   "display_name": "Python 3",
   "language": "python",
   "name": "python3"
  },
  "language_info": {
   "codemirror_mode": {
    "name": "ipython",
    "version": 3
   },
   "file_extension": ".py",
   "mimetype": "text/x-python",
   "name": "python",
   "nbconvert_exporter": "python",
   "pygments_lexer": "ipython3",
   "version": "3.5.2"
  }
 },
 "nbformat": 4,
 "nbformat_minor": 2
}
