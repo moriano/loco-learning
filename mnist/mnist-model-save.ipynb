{
 "cells": [
  {
   "cell_type": "code",
   "execution_count": 1,
   "metadata": {
    "collapsed": true,
    "scrolled": true
   },
   "outputs": [],
   "source": [
    "import tensorflow as tf\n",
    "import numpy as np"
   ]
  },
  {
   "cell_type": "code",
   "execution_count": 2,
   "metadata": {
    "scrolled": true
   },
   "outputs": [
    {
     "name": "stdout",
     "output_type": "stream",
     "text": [
      "Extracting MNIST_data/train-images-idx3-ubyte.gz\n",
      "Extracting MNIST_data/train-labels-idx1-ubyte.gz\n",
      "Extracting MNIST_data/t10k-images-idx3-ubyte.gz\n",
      "Extracting MNIST_data/t10k-labels-idx1-ubyte.gz\n"
     ]
    }
   ],
   "source": [
    "from tensorflow.examples.tutorials.mnist import input_data\n",
    "mnist = input_data.read_data_sets(\"MNIST_data/\", one_hot=True)"
   ]
  },
  {
   "cell_type": "code",
   "execution_count": 3,
   "metadata": {
    "scrolled": true
   },
   "outputs": [],
   "source": [
    "X = tf.placeholder(tf.float32, shape=(None, 28*28), name=\"X\")\n",
    "y = tf.placeholder(tf.float32, shape=(None, 10), name=\"y\")\n",
    "\n",
    "layer_1 = tf.layers.dense(X, 256, activation=tf.nn.relu, name=\"layer_1\")\n",
    "layer_2 = tf.layers.dense(layer_1, 256, activation=tf.nn.relu, name=\"layer_2\")\n",
    "layer_3 = tf.layers.dense(layer_2, 10, activation=None, name=\"layer_3\")\n",
    "\n",
    "logits = tf.nn.softmax(layer_3, name=\"logits\")\n",
    "\n",
    "correct_prediction = tf.equal(tf.argmax(y,1), tf.argmax(logits, 1))\n",
    "accuracy = tf.reduce_mean(tf.cast(correct_prediction, tf.float32), name=\"accuracy\")\n",
    "cross_entropy = tf.reduce_mean(tf.nn.softmax_cross_entropy_with_logits(labels=y, logits=logits))\n",
    "\n",
    "cost = tf.reduce_mean(cross_entropy, name=\"cost\")\n",
    "\n",
    "train_step = tf.train.AdamOptimizer().minimize(cost)\n"
   ]
  },
  {
   "cell_type": "code",
   "execution_count": 4,
   "metadata": {
    "scrolled": false
   },
   "outputs": [
    {
     "name": "stdout",
     "output_type": "stream",
     "text": [
      "Epoch 0 completed, cost so far 1.991\n",
      "Accuracy (train) is 0.625\n",
      "Accuracy (test) is 0.592\n",
      "INFO:tensorflow:/tmp/mnist_epoch-0 is not in all_model_checkpoint_paths. Manually adding it.\n",
      "Model saved in file: /tmp/mnist_epoch-0\n",
      "-----------------------------------------------\n",
      "\n",
      "Epoch 1 completed, cost so far 1.809\n",
      "Accuracy (train) is 0.703\n",
      "Accuracy (test) is 0.689\n",
      "INFO:tensorflow:/tmp/mnist_epoch-1 is not in all_model_checkpoint_paths. Manually adding it.\n",
      "Model saved in file: /tmp/mnist_epoch-1\n",
      "-----------------------------------------------\n",
      "\n",
      "Epoch 2 completed, cost so far 1.714\n",
      "Accuracy (train) is 0.781\n",
      "Accuracy (test) is 0.755\n",
      "INFO:tensorflow:/tmp/mnist_epoch-2 is not in all_model_checkpoint_paths. Manually adding it.\n",
      "Model saved in file: /tmp/mnist_epoch-2\n",
      "-----------------------------------------------\n",
      "\n",
      "Epoch 3 completed, cost so far 1.759\n",
      "Accuracy (train) is 0.734\n",
      "Accuracy (test) is 0.801\n",
      "INFO:tensorflow:/tmp/mnist_epoch-3 is not in all_model_checkpoint_paths. Manually adding it.\n",
      "Model saved in file: /tmp/mnist_epoch-3\n",
      "-----------------------------------------------\n",
      "\n",
      "Epoch 4 completed, cost so far 1.657\n",
      "Accuracy (train) is 0.812\n",
      "Accuracy (test) is 0.815\n",
      "INFO:tensorflow:/tmp/mnist_epoch-4 is not in all_model_checkpoint_paths. Manually adding it.\n",
      "Model saved in file: /tmp/mnist_epoch-4\n",
      "-----------------------------------------------\n",
      "\n",
      "Epoch 5 completed, cost so far 1.733\n",
      "Accuracy (train) is 0.734\n",
      "Accuracy (test) is 0.811\n",
      "INFO:tensorflow:/tmp/mnist_epoch-5 is not in all_model_checkpoint_paths. Manually adding it.\n",
      "Model saved in file: /tmp/mnist_epoch-5\n",
      "-----------------------------------------------\n",
      "\n",
      "Epoch 6 completed, cost so far 1.692\n",
      "Accuracy (train) is 0.781\n",
      "Accuracy (test) is 0.821\n",
      "INFO:tensorflow:/tmp/mnist_epoch-6 is not in all_model_checkpoint_paths. Manually adding it.\n",
      "Model saved in file: /tmp/mnist_epoch-6\n",
      "-----------------------------------------------\n",
      "\n",
      "Epoch 7 completed, cost so far 1.639\n",
      "Accuracy (train) is 0.844\n",
      "Accuracy (test) is 0.822\n",
      "INFO:tensorflow:/tmp/mnist_epoch-7 is not in all_model_checkpoint_paths. Manually adding it.\n",
      "Model saved in file: /tmp/mnist_epoch-7\n",
      "-----------------------------------------------\n",
      "\n",
      "Epoch 8 completed, cost so far 1.623\n",
      "Accuracy (train) is 0.828\n",
      "Accuracy (test) is 0.834\n",
      "INFO:tensorflow:/tmp/mnist_epoch-8 is not in all_model_checkpoint_paths. Manually adding it.\n",
      "Model saved in file: /tmp/mnist_epoch-8\n",
      "-----------------------------------------------\n",
      "\n",
      "Epoch 9 completed, cost so far 1.578\n",
      "Accuracy (train) is 0.922\n",
      "Accuracy (test) is 0.882\n",
      "INFO:tensorflow:/tmp/mnist_epoch-9 is not in all_model_checkpoint_paths. Manually adding it.\n",
      "Model saved in file: /tmp/mnist_epoch-9\n",
      "-----------------------------------------------\n",
      "\n"
     ]
    }
   ],
   "source": [
    "saver = tf.train.Saver(max_to_keep=0)\n",
    "\n",
    "with tf.Session() as session:\n",
    "\n",
    "    session.run(tf.global_variables_initializer())\n",
    "\n",
    "    batch_size = 256\n",
    "\n",
    "    X_test, y_test = mnist.test.next_batch(1000) \n",
    "    for epoch in range(10):\n",
    "        for batch in range(10):\n",
    "            X_train, y_train = mnist.train.next_batch(64)\n",
    "\n",
    "            #print(\"X_train\", X_train.shape)\n",
    "\n",
    "            #print(X_train.shape)\n",
    "            train_step.run(feed_dict={X: X_train, y: y_train})\n",
    "\n",
    "        print(\"Epoch %d completed, cost so far %.3f\" % (epoch, cost.eval(feed_dict={X: X_train, y: y_train})))\n",
    "\n",
    "        print(\"Accuracy (train) is %.3f\" %  accuracy.eval(feed_dict={X: X_train, y: y_train}))\n",
    "        print(\"Accuracy (test) is %.3f\" %  accuracy.eval(feed_dict={X: X_test, y: y_test}))\n",
    "        save_path = saver.save(session, \"/tmp/mnist_epoch\", global_step=epoch)\n",
    "        print(\"Model saved in file: %s\" % save_path)\n",
    "        print(\"-----------------------------------------------\\n\")\n",
    "    "
   ]
  }
 ],
 "metadata": {
  "kernelspec": {
   "display_name": "Python 3",
   "language": "python",
   "name": "python3"
  },
  "language_info": {
   "codemirror_mode": {
    "name": "ipython",
    "version": 3
   },
   "file_extension": ".py",
   "mimetype": "text/x-python",
   "name": "python",
   "nbconvert_exporter": "python",
   "pygments_lexer": "ipython3",
   "version": "3.5.2"
  }
 },
 "nbformat": 4,
 "nbformat_minor": 2
}
