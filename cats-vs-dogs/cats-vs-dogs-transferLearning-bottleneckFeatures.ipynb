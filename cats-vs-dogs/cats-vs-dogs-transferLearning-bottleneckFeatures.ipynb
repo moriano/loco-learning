{
 "cells": [
  {
   "cell_type": "markdown",
   "metadata": {},
   "source": [
    "# Cats vs dogs kaggle competition\n",
    "### Using VGG16 and VGG19 with bottleneck features\n",
    "#### This is largely based in this article https://blog.keras.io/building-powerful-image-classification-models-using-very-little-data.html and http://www.codesofinterest.com/2017/08/bottleneck-features-multi-class-classification-keras.html\n",
    "\n",
    "First, note that we will expect datato be in this format \n",
    "\n",
    "```\n",
    "├── real_test\n",
    "│   ├── 10111.jpg\n",
    "│   ├── 8111.jpg\n",
    "│   └── 9111.jpg\n",
    "├── test\n",
    "│   ├── cat\n",
    "│   │   └── cat.4111.jpg\n",
    "│   └── dog\n",
    "│       ├── dog.1111.jpg\n",
    "│       └── dog.2111.jpg\n",
    "├── train\n",
    "│   ├── cat\n",
    "│   │   ├── cat.10111.jpg\n",
    "│   │   ├── cat.11111.jpg\n",
    "│   │   ├── cat.1111.jpg\n",
    "│   └── dog\n",
    "│       ├── dog.10111.jpg\n",
    "│       ├── dog.111.jpg\n",
    "└── validation\n",
    "    ├── cat\n",
    "    │   ├── cat.5111.jpg\n",
    "    │   └── cat.7111.jpg\n",
    "    └── dog\n",
    "        ├── dog.11111.jpg\n",
    "        └── dog.12111.jpg\n",
    "        ```\n"
   ]
  },
  {
   "cell_type": "code",
   "execution_count": 1,
   "metadata": {},
   "outputs": [
    {
     "name": "stderr",
     "output_type": "stream",
     "text": [
      "Using TensorFlow backend.\n"
     ]
    }
   ],
   "source": [
    "# Lets import some stuff\n",
    "import tensorflow as tf\n",
    "from skimage import io\n",
    "from IPython.display import Image\n",
    "from PIL import Image as PILImage\n",
    "import pandas as pd\n",
    "\n",
    "#from skimage.transform import resize\n",
    "import matplotlib.pyplot as plt\n",
    "from os import listdir\n",
    "from os import mkdir\n",
    "from skimage.io import imsave\n",
    "import numpy as np\n",
    "from sklearn.utils import shuffle\n",
    "import sys\n",
    "#import os\n",
    "import cv2\n",
    "import os.path\n",
    "\n",
    "from keras.models import Sequential\n",
    "from keras.applications import vgg16, vgg19\n",
    "from keras.layers import Dense, GlobalAveragePooling2D, Dropout, Flatten\n",
    "from keras.models import Model\n",
    "from keras.initializers import TruncatedNormal\n",
    "from keras import optimizers\n",
    "from keras.models import load_model\n",
    "from keras.callbacks import EarlyStopping, TensorBoard\n",
    "from keras.preprocessing.image import ImageDataGenerator\n",
    "from keras.utils.np_utils import to_categorical  \n",
    "\n",
    "\n",
    "%matplotlib inline"
   ]
  },
  {
   "cell_type": "code",
   "execution_count": 2,
   "metadata": {},
   "outputs": [],
   "source": [
    "IMAGE_WIDTH = 224\n",
    "IMAGE_HEIGHT = 224\n",
    "\n",
    "FLOYDHUB=True\n",
    "if FLOYDHUB:\n",
    "    OUTPUT_DIR = \"/output/\"\n",
    "    DATA_DIR = \"/input/\"\n",
    "    CLEANED_DATA_DIR = \"/input/\"\n",
    "    CATS_DIR = \"/input/train/cat/\"\n",
    "else:\n",
    "    CATS_DIR = \"data/train/\"\n",
    "    OUTPUT_DIR = \"/tmp/\"\n",
    "    DATA_DIR = \"data/\"\n",
    "    CLEANED_DATA_DIR = \"data/cleaned/\""
   ]
  },
  {
   "cell_type": "code",
   "execution_count": 3,
   "metadata": {},
   "outputs": [
    {
     "name": "stdout",
     "output_type": "stream",
     "text": [
      "Found 19999 images belonging to 2 classes.\n",
      "Found 2500 images belonging to 2 classes.\n",
      "Found 2501 images belonging to 2 classes.\n"
     ]
    }
   ],
   "source": [
    "batch_size = 16\n",
    "\n",
    "# this is the augmentation configuration we will use for training\n",
    "train_datagen = ImageDataGenerator(\n",
    "        rescale=1./255,\n",
    "        shear_range=0.2,\n",
    "        zoom_range=0.2,\n",
    "        horizontal_flip=True)\n",
    "\n",
    "# this is the augmentation configuration we will use for validation:\n",
    "# only rescaling\n",
    "validation_datagen = ImageDataGenerator(rescale=1./255)\n",
    "\n",
    "# and the same for the test set\n",
    "test_datagen = ImageDataGenerator(rescale=1./255)\n",
    "\n",
    "# this is a generator that will read pictures found in\n",
    "# subfolers of 'data/train', and indefinitely generate\n",
    "# batches of augmented image data\n",
    "train_generator = train_datagen.flow_from_directory(\n",
    "        CLEANED_DATA_DIR + '/train',  # this is the target directory\n",
    "        target_size=(IMAGE_WIDTH, IMAGE_HEIGHT),  # all images will be resized to 150x150\n",
    "        batch_size=batch_size,\n",
    "        shuffle=False,\n",
    "        class_mode=None)  # this means our generator will only yield batches of data, no labels\n",
    "\n",
    "# this is a similar generator, for validation data\n",
    "validation_generator = validation_datagen.flow_from_directory(\n",
    "        CLEANED_DATA_DIR + '/validation',\n",
    "        target_size=(IMAGE_WIDTH, IMAGE_HEIGHT),\n",
    "        batch_size=batch_size,\n",
    "        shuffle=False,\n",
    "        class_mode=None)\n",
    "\n",
    "# And the generator for test data\n",
    "test_generator = test_datagen.flow_from_directory(\n",
    "        CLEANED_DATA_DIR + '/test',\n",
    "        target_size=(IMAGE_WIDTH, IMAGE_HEIGHT),\n",
    "        batch_size=batch_size,\n",
    "        shuffle=False,\n",
    "        class_mode=None)"
   ]
  },
  {
   "cell_type": "code",
   "execution_count": 4,
   "metadata": {},
   "outputs": [],
   "source": [
    "training_samples = 19984 # Remember, we use 80% of 25k images, so 25000 * 0.8 = 20000\n",
    "validation_samples = 2496 # Remember we use 10% of 25k images so 25000 * 0.1 = 2500\n",
    "\n",
    "test_samples = 2496\n",
    "total_steps = test_samples // batch_size\n",
    "\n",
    "#training_samples = batch_size*300 # Remember, we use 80% of 25k images, so 25000 * 0.8 = 20000\n",
    "#validation_samples = batch_size*150 # Remember we use 10% of 25k images so 25000 * 0.1 = 2500"
   ]
  },
  {
   "cell_type": "markdown",
   "metadata": {},
   "source": [
    "### We need a couple of callbacks for our models, one to perform early stopping, the other for tensorboard info"
   ]
  },
  {
   "cell_type": "code",
   "execution_count": 5,
   "metadata": {},
   "outputs": [],
   "source": [
    "early_stopping=EarlyStopping(monitor='val_loss', \n",
    "                             min_delta=0.001, \n",
    "                             patience=3, \n",
    "                             verbose=1, \n",
    "                             mode='auto')\n",
    "\n",
    "tensorboard = TensorBoard(log_dir='./tensorboard-logs', \n",
    "                          histogram_freq=0, \n",
    "                          write_graph=True, \n",
    "                          write_images=True)"
   ]
  },
  {
   "cell_type": "code",
   "execution_count": 6,
   "metadata": {},
   "outputs": [],
   "source": [
    "model_vgg16 = vgg16.VGG16(include_top=False, weights='imagenet')"
   ]
  },
  {
   "cell_type": "code",
   "execution_count": 7,
   "metadata": {},
   "outputs": [
    {
     "name": "stdout",
     "output_type": "stream",
     "text": [
      "_________________________________________________________________\n",
      "Layer (type)                 Output Shape              Param #   \n",
      "=================================================================\n",
      "input_1 (InputLayer)         (None, None, None, 3)     0         \n",
      "_________________________________________________________________\n",
      "block1_conv1 (Conv2D)        (None, None, None, 64)    1792      \n",
      "_________________________________________________________________\n",
      "block1_conv2 (Conv2D)        (None, None, None, 64)    36928     \n",
      "_________________________________________________________________\n",
      "block1_pool (MaxPooling2D)   (None, None, None, 64)    0         \n",
      "_________________________________________________________________\n",
      "block2_conv1 (Conv2D)        (None, None, None, 128)   73856     \n",
      "_________________________________________________________________\n",
      "block2_conv2 (Conv2D)        (None, None, None, 128)   147584    \n",
      "_________________________________________________________________\n",
      "block2_pool (MaxPooling2D)   (None, None, None, 128)   0         \n",
      "_________________________________________________________________\n",
      "block3_conv1 (Conv2D)        (None, None, None, 256)   295168    \n",
      "_________________________________________________________________\n",
      "block3_conv2 (Conv2D)        (None, None, None, 256)   590080    \n",
      "_________________________________________________________________\n",
      "block3_conv3 (Conv2D)        (None, None, None, 256)   590080    \n",
      "_________________________________________________________________\n",
      "block3_pool (MaxPooling2D)   (None, None, None, 256)   0         \n",
      "_________________________________________________________________\n",
      "block4_conv1 (Conv2D)        (None, None, None, 512)   1180160   \n",
      "_________________________________________________________________\n",
      "block4_conv2 (Conv2D)        (None, None, None, 512)   2359808   \n",
      "_________________________________________________________________\n",
      "block4_conv3 (Conv2D)        (None, None, None, 512)   2359808   \n",
      "_________________________________________________________________\n",
      "block4_pool (MaxPooling2D)   (None, None, None, 512)   0         \n",
      "_________________________________________________________________\n",
      "block5_conv1 (Conv2D)        (None, None, None, 512)   2359808   \n",
      "_________________________________________________________________\n",
      "block5_conv2 (Conv2D)        (None, None, None, 512)   2359808   \n",
      "_________________________________________________________________\n",
      "block5_conv3 (Conv2D)        (None, None, None, 512)   2359808   \n",
      "_________________________________________________________________\n",
      "block5_pool (MaxPooling2D)   (None, None, None, 512)   0         \n",
      "=================================================================\n",
      "Total params: 14,714,688\n",
      "Trainable params: 14,714,688\n",
      "Non-trainable params: 0\n",
      "_________________________________________________________________\n"
     ]
    }
   ],
   "source": [
    "model_vgg16.summary()"
   ]
  },
  {
   "cell_type": "code",
   "execution_count": 8,
   "metadata": {},
   "outputs": [
    {
     "name": "stdout",
     "output_type": "stream",
     "text": [
      "1249/1249 [==============================] - 238s   \n"
     ]
    }
   ],
   "source": [
    "bottleneck_features_train = model_vgg16.predict_generator(train_generator, \n",
    "                                                          training_samples // batch_size, \n",
    "                                                          verbose=1)"
   ]
  },
  {
   "cell_type": "code",
   "execution_count": 9,
   "metadata": {},
   "outputs": [],
   "source": [
    "np.save(OUTPUT_DIR+'bottleneck_features_train.npy', bottleneck_features_train)"
   ]
  },
  {
   "cell_type": "code",
   "execution_count": 10,
   "metadata": {},
   "outputs": [
    {
     "data": {
      "text/plain": [
       "(19984, 7, 7, 512)"
      ]
     },
     "execution_count": 10,
     "metadata": {},
     "output_type": "execute_result"
    }
   ],
   "source": [
    "bottleneck_features_train.shape"
   ]
  },
  {
   "cell_type": "code",
   "execution_count": 11,
   "metadata": {},
   "outputs": [
    {
     "name": "stdout",
     "output_type": "stream",
     "text": [
      "156/156 [==============================] - 28s    \n"
     ]
    }
   ],
   "source": [
    "bottleneck_features_validation = model_vgg16.predict_generator(validation_generator, \n",
    "                                                               validation_samples // batch_size,\n",
    "                                                               verbose=1)"
   ]
  },
  {
   "cell_type": "code",
   "execution_count": 12,
   "metadata": {},
   "outputs": [],
   "source": [
    "np.save(OUTPUT_DIR+'bottleneck_features_validation.npy', bottleneck_features_validation)"
   ]
  },
  {
   "cell_type": "code",
   "execution_count": 13,
   "metadata": {},
   "outputs": [
    {
     "data": {
      "text/plain": [
       "(2496, 7, 7, 512)"
      ]
     },
     "execution_count": 13,
     "metadata": {},
     "output_type": "execute_result"
    }
   ],
   "source": [
    "bottleneck_features_validation.shape"
   ]
  },
  {
   "cell_type": "markdown",
   "metadata": {},
   "source": [
    "### Now we load the bottleneck features"
   ]
  },
  {
   "cell_type": "code",
   "execution_count": 14,
   "metadata": {},
   "outputs": [
    {
     "name": "stdout",
     "output_type": "stream",
     "text": [
      "(19984, 7, 7, 512)\n",
      "(2496, 7, 7, 512)\n"
     ]
    }
   ],
   "source": [
    "train_data_bottleneck = np.load(OUTPUT_DIR+'bottleneck_features_train.npy')\n",
    "validation_data_bottleneck = np.load(OUTPUT_DIR+'bottleneck_features_validation.npy')\n",
    "\n",
    "print(train_data_bottleneck.shape)\n",
    "print(validation_data_bottleneck.shape)"
   ]
  },
  {
   "cell_type": "markdown",
   "metadata": {},
   "source": [
    "#### We also need to get the labels for the features we have loaded... and we need to make sure we get them in the same order"
   ]
  },
  {
   "cell_type": "code",
   "execution_count": 28,
   "metadata": {},
   "outputs": [
    {
     "name": "stdout",
     "output_type": "stream",
     "text": [
      "Found 19999 images belonging to 2 classes.\n",
      "Found 2500 images belonging to 2 classes.\n"
     ]
    }
   ],
   "source": [
    "# This is the same as the train generator... but it will have the classes too.\n",
    "train_generator_classes = train_datagen.flow_from_directory(\n",
    "                            CLEANED_DATA_DIR + '/train',  # this is the target directory\n",
    "                            target_size=(IMAGE_WIDTH, IMAGE_HEIGHT),  # all images will be resized to 150x150\n",
    "                            batch_size=batch_size,\n",
    "                            shuffle=False,\n",
    "                            class_mode='categorical')  # since we use categorical_crossentropy loss, \n",
    "                                                       # we will need one-hot-encoded...\n",
    "    \n",
    "# This is the same as the validation generator... but it will have the classes too\n",
    "validation_generator_classes = validation_datagen.flow_from_directory(\n",
    "                            CLEANED_DATA_DIR + '/validation',\n",
    "                            target_size=(IMAGE_WIDTH, IMAGE_HEIGHT),\n",
    "                            batch_size=batch_size,\n",
    "                            shuffle=False,\n",
    "                            class_mode='categorical')  # since we use categorical_crossentropy loss, \n",
    "                                                       # we will need one-hot-encoded...    "
   ]
  },
  {
   "cell_type": "markdown",
   "metadata": {},
   "source": [
    "Remember, we used variables\n",
    "* training_samples\n",
    "* validation_samples\n",
    "\n",
    "before to determine how many images will be for training/validation, lets use the same ones to restore the labels\n",
    "\n",
    "This is a bit non-direct, but here's how it works. Essentially we will iterate over the train_generator_classes variable a total of\n",
    "\n",
    "```python\n",
    "training_samples // batch_size\n",
    "```\n",
    "\n",
    "And the same will be done with the validation_generator_classes, that will yield us X and y elements, we can then use the y element in conjunction with ```classes``` and ```class_indices``` attributes to build a numpy array with the correct labels\n",
    "\n",
    "Also, regarding how the array is constructed, you REALLY want to check this http://akuederle.com/create-numpy-array-with-for-loop"
   ]
  },
  {
   "cell_type": "code",
   "execution_count": 16,
   "metadata": {},
   "outputs": [
    {
     "name": "stdout",
     "output_type": "stream",
     "text": [
      "train_data_bottleneck shape is  (19984, 7, 7, 512)\n",
      "1200 to go\n",
      "1100 to go\n",
      "1000 to go\n",
      "900 to go\n",
      "800 to go\n",
      "700 to go\n",
      "600 to go\n",
      "500 to go\n",
      "400 to go\n",
      "300 to go\n",
      "200 to go\n",
      "100 to go\n",
      "0 to go\n",
      "train_labels shape is (19984, 2)\n",
      "validation_data_bottleneck shape is  (2496, 7, 7, 512)\n",
      "100 to go\n",
      "0 to go\n",
      "validation_labels shape is (2496, 2)\n"
     ]
    }
   ],
   "source": [
    "num_classes = 2\n",
    "print(\"train_data_bottleneck shape is \", train_data_bottleneck.shape)\n",
    "train_labels = np.empty((0, num_classes))\n",
    "total_iterations = training_samples // batch_size\n",
    "for x, y in train_generator_classes:\n",
    "    train_labels = np.append(train_labels, y, axis=0)\n",
    "    total_iterations-=1\n",
    "    if total_iterations % 100 == 0:\n",
    "        print(total_iterations, \"to go\")\n",
    "    if total_iterations == 0:\n",
    "        break\n",
    "        \n",
    "print(\"train_labels shape is\", train_labels.shape)\n",
    "\n",
    "\n",
    "print(\"validation_data_bottleneck shape is \", validation_data_bottleneck.shape)\n",
    "validation_labels = np.empty((0, num_classes))\n",
    "total_iterations = validation_samples // batch_size\n",
    "for x, y in validation_generator_classes:\n",
    "    validation_labels = np.append(validation_labels, y, axis=0)\n",
    "    total_iterations-=1\n",
    "    if total_iterations % 100 == 0:\n",
    "        print(total_iterations, \"to go\")\n",
    "    if total_iterations == 0:\n",
    "        break\n",
    "        \n",
    "print(\"validation_labels shape is\", validation_labels.shape)\n"
   ]
  },
  {
   "cell_type": "code",
   "execution_count": 29,
   "metadata": {},
   "outputs": [
    {
     "name": "stdout",
     "output_type": "stream",
     "text": [
      "_________________________________________________________________\n",
      "Layer (type)                 Output Shape              Param #   \n",
      "=================================================================\n",
      "flatten_3 (Flatten)          (None, 25088)             0         \n",
      "_________________________________________________________________\n",
      "dense_5 (Dense)              (None, 256)               6422784   \n",
      "_________________________________________________________________\n",
      "dropout_3 (Dropout)          (None, 256)               0         \n",
      "_________________________________________________________________\n",
      "dense_6 (Dense)              (None, 2)                 514       \n",
      "=================================================================\n",
      "Total params: 6,423,298\n",
      "Trainable params: 6,423,298\n",
      "Non-trainable params: 0\n",
      "_________________________________________________________________\n"
     ]
    }
   ],
   "source": [
    "model = Sequential()\n",
    "model.add(Flatten(input_shape=train_data_bottleneck.shape[1:]))\n",
    "model.add(Dense(256, activation='relu'))\n",
    "model.add(Dropout(0.5))\n",
    "model.add(Dense(num_classes, activation='softmax'))\n",
    "\n",
    "model.compile(optimizer='rmsprop',\n",
    "              loss='categorical_crossentropy',\n",
    "              metrics=['accuracy'])\n",
    "\n",
    "model.summary()\n",
    "\n",
    "\n",
    "#model.save_weights('bottleneck_fc_model.h5')"
   ]
  },
  {
   "cell_type": "code",
   "execution_count": 30,
   "metadata": {},
   "outputs": [
    {
     "name": "stdout",
     "output_type": "stream",
     "text": [
      "Train on 19984 samples, validate on 2496 samples\n",
      "Epoch 1/25\n",
      "19984/19984 [==============================] - 12s - loss: 0.5213 - acc: 0.8217 - val_loss: 0.2224 - val_acc: 0.9058\n",
      "Epoch 2/25\n",
      "19984/19984 [==============================] - 12s - loss: 0.3198 - acc: 0.8739 - val_loss: 0.2107 - val_acc: 0.9255\n",
      "Epoch 3/25\n",
      "19984/19984 [==============================] - 12s - loss: 0.2777 - acc: 0.8938 - val_loss: 0.2064 - val_acc: 0.9247\n",
      "Epoch 4/25\n",
      "19984/19984 [==============================] - 12s - loss: 0.2709 - acc: 0.8975 - val_loss: 0.2571 - val_acc: 0.9083\n",
      "Epoch 5/25\n",
      "19984/19984 [==============================] - 12s - loss: 0.2566 - acc: 0.9067 - val_loss: 0.2653 - val_acc: 0.9038\n",
      "Epoch 6/25\n",
      "19984/19984 [==============================] - 12s - loss: 0.2553 - acc: 0.9075 - val_loss: 0.2163 - val_acc: 0.9255\n",
      "Epoch 7/25\n",
      "19984/19984 [==============================] - 12s - loss: 0.2506 - acc: 0.9126 - val_loss: 0.2358 - val_acc: 0.9123\n",
      "Epoch 00006: early stopping\n"
     ]
    }
   ],
   "source": [
    "model_history = model.fit(train_data_bottleneck, train_labels,\n",
    "                          epochs=25,\n",
    "                          batch_size=batch_size,\n",
    "                          callbacks=[early_stopping, tensorboard],\n",
    "                          validation_data=(validation_data_bottleneck, validation_labels))"
   ]
  },
  {
   "cell_type": "code",
   "execution_count": 31,
   "metadata": {},
   "outputs": [],
   "source": [
    "def plot_learning_curves(history):\n",
    "    h = pd.DataFrame([history.history['loss'], history.history['val_loss']])\n",
    "    h = h.T\n",
    "    h.columns=['acc', 'val_acc']\n",
    "    h.plot(figsize=(20, 5))\n",
    "    plt.show()"
   ]
  },
  {
   "cell_type": "code",
   "execution_count": 32,
   "metadata": {},
   "outputs": [
    {
     "data": {
      "image/png": "[encoded data removed]",
      "text/plain": [
       "<matplotlib.figure.Figure at 0x7fe63e1a0f98>"
      ]
     },
     "metadata": {},
     "output_type": "display_data"
    }
   ],
   "source": [
    "plot_learning_curves(model_history)"
   ]
  },
  {
   "cell_type": "code",
   "execution_count": 35,
   "metadata": {},
   "outputs": [],
   "source": [
    "model.save_weights(OUTPUT_DIR + 'bottleneck_fc_model.h5')"
   ]
  },
  {
   "cell_type": "code",
   "execution_count": null,
   "metadata": {},
   "outputs": [],
   "source": []
  }
 ],
 "metadata": {
  "kernelspec": {
   "display_name": "Python 3",
   "language": "python",
   "name": "python3"
  },
  "language_info": {
   "codemirror_mode": {
    "name": "ipython",
    "version": 3
   },
   "file_extension": ".py",
   "mimetype": "text/x-python",
   "name": "python",
   "nbconvert_exporter": "python",
   "pygments_lexer": "ipython3",
   "version": "3.6.2"
  }
 },
 "nbformat": 4,
 "nbformat_minor": 2
}
